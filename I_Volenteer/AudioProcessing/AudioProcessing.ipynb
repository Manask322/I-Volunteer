import numpy as np
import matplotlib.pyplot as plt
import scipy.signal as sig
import scipy.io.wavfile as wav

#Read the audio file
r,yn = wav.read('../Audio Files/AudioTest2.wav')

#Apply butterworth filter on the audio file to clean it
b, a = sig.butter(2, 0.6,analog=False)
yf = sig.lfilter(b, a, yn)

yf =yf.astype('int16')
yf = yf

wav.write('../Audio Files/AudioTest2filtered.wav',r,yf)

